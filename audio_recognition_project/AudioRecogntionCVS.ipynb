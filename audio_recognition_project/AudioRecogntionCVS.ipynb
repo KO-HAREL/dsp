{
  "nbformat": 4,
  "nbformat_minor": 0,
  "metadata": {
    "colab": {
      "provenance": [],
      "toc_visible": true,
      "authorship_tag": "ABX9TyMTToL/LK2C2kImha54a4jM",
      "include_colab_link": true
    },
    "kernelspec": {
      "name": "python3",
      "display_name": "Python 3"
    },
    "language_info": {
      "name": "python"
    }
  },
  "cells": [
    {
      "cell_type": "markdown",
      "metadata": {
        "id": "view-in-github",
        "colab_type": "text"
      },
      "source": [
        "<a href=\"https://colab.research.google.com/github/KO-HAREL/dsp/blob/main/audio_recognition_project/AudioRecogntionCVS.ipynb\" target=\"_parent\"><img src=\"https://colab.research.google.com/assets/colab-badge.svg\" alt=\"Open In Colab\"/></a>"
      ]
    },
    {
      "cell_type": "code",
      "execution_count": 1,
      "metadata": {
        "colab": {
          "base_uri": "https://localhost:8080/",
          "height": 211
        },
        "id": "-c8YgAHTBi6F",
        "outputId": "f988f378-0b89-4b7e-bdea-74c2c8a2f1fb"
      },
      "outputs": [
        {
          "output_type": "error",
          "ename": "NameError",
          "evalue": "name '_name_' is not defined",
          "traceback": [
            "\u001b[0;31m---------------------------------------------------------------------------\u001b[0m",
            "\u001b[0;31mNameError\u001b[0m                                 Traceback (most recent call last)",
            "\u001b[0;32m<ipython-input-1-9e575e15bab5>\u001b[0m in \u001b[0;36m<cell line: 0>\u001b[0;34m()\u001b[0m\n\u001b[1;32m     30\u001b[0m \u001b[0;34m\u001b[0m\u001b[0m\n\u001b[1;32m     31\u001b[0m \u001b[0;34m\u001b[0m\u001b[0m\n\u001b[0;32m---> 32\u001b[0;31m \u001b[0;32mif\u001b[0m \u001b[0m_name_\u001b[0m \u001b[0;34m==\u001b[0m \u001b[0;34m'_main_'\u001b[0m\u001b[0;34m:\u001b[0m\u001b[0;34m\u001b[0m\u001b[0;34m\u001b[0m\u001b[0m\n\u001b[0m\u001b[1;32m     33\u001b[0m     \u001b[0mtrain_features\u001b[0m\u001b[0;34m,\u001b[0m \u001b[0mtrain_class\u001b[0m \u001b[0;34m=\u001b[0m \u001b[0mextract\u001b[0m\u001b[0;34m(\u001b[0m\u001b[0;34m)\u001b[0m\u001b[0;34m\u001b[0m\u001b[0;34m\u001b[0m\u001b[0m\n\u001b[1;32m     34\u001b[0m     \u001b[0maudio_classifier\u001b[0m \u001b[0;34m=\u001b[0m \u001b[0msvm\u001b[0m\u001b[0;34m.\u001b[0m\u001b[0mLinearSVC\u001b[0m\u001b[0;34m(\u001b[0m\u001b[0;34m)\u001b[0m\u001b[0;34m\u001b[0m\u001b[0;34m\u001b[0m\u001b[0m\n",
            "\u001b[0;31mNameError\u001b[0m: name '_name_' is not defined"
          ]
        }
      ],
      "source": [
        "import numpy as np\n",
        "from sklearn import svm\n",
        "import os\n",
        "import librosa\n",
        "import pathlib\n",
        "import soundfile as sf\n",
        "\n",
        "def extract():\n",
        "    x = True\n",
        "    #path to directory of the csv files\n",
        "    directory = \"CSV\"\n",
        "    with os.scandir(directory) as entries:\n",
        "        for entry in entries:\n",
        "            if entry.is_file():\n",
        "                filepath = entry.path\n",
        "                features = np.loadtxt(filepath,\n",
        "                                 delimiter=\",\", dtype=float)\n",
        "\n",
        "                filename = filepath.split('/')\n",
        "                student = filename[1].split('.')[0]\n",
        "                if x:\n",
        "                    all_features = features\n",
        "                    all_class = np.full((100, 1), student)\n",
        "                    x = False\n",
        "                else:\n",
        "                    for i in features:\n",
        "                        all_features = np.append(all_features, [i], axis=0)\n",
        "                        all_class = np.append(all_class, student)\n",
        "    return all_features, all_class\n",
        "\n",
        "\n",
        "if _name_ == '_main_':\n",
        "    train_features, train_class = extract()\n",
        "    audio_classifier = svm.LinearSVC()\n",
        "    audio_classifier.fit(train_features, train_class)\n",
        "\n",
        "\n",
        "    #Cropping Activity\n",
        "\n",
        "    #path to the fresh sample file\n",
        "    path_to_audio = \"freshECE_3.wav\"\n",
        "    audio, sample_rate = librosa.load(path_to_audio, sr=44100)\n",
        "    first_positive_index = np.where(audio > 0.12)[0]\n",
        "    # Check if there's a positive sample\n",
        "    if first_positive_index.size > 0:\n",
        "        # Crop the audio from the first positive sample to 44100 samples\n",
        "        start_index = first_positive_index[0]\n",
        "        cropped_audio = audio[start_index:start_index + 44100]\n",
        "        # Ensure we don't exceed the array length\n",
        "        if len(cropped_audio) < 44100:\n",
        "            print(\"Not enough samples to crop to 44100.\")\n",
        "        else:\n",
        "            # Write the cropped audio to a new file\n",
        "            sf.write(path_to_audio, cropped_audio, sample_rate, subtype='PCM_24')\n",
        "    else:\n",
        "        print(\"No positive samples found in the audio.\")\n",
        "\n",
        "\n",
        "    #CSV Activity\n",
        "    total_coeffs = 1300\n",
        "    n_mfcc = 13\n",
        "    y, sr = librosa.load(path_to_audio, sr=None)\n",
        "    mfcc = librosa.feature.mfcc(y=y, sr=sr, n_mfcc=n_mfcc)\n",
        "    mfcc_flat = mfcc.T.flatten()[:total_coeffs]\n",
        "    if len(mfcc_flat) < total_coeffs:\n",
        "        mfcc_flat = np.pad(mfcc_flat, (0, total_coeffs - len(mfcc_flat)), mode='constant')\n",
        "\n",
        "\n",
        "\n",
        "    student_name = audio_classifier.predict([mfcc_flat])\n",
        "    print(student_name)"
      ]
    }
  ]
}