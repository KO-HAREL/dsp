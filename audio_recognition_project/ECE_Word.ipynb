{
  "nbformat": 4,
  "nbformat_minor": 0,
  "metadata": {
    "colab": {
      "provenance": [],
      "authorship_tag": "ABX9TyPBIQnisXz5oz0yRu2n9Mn+",
      "include_colab_link": true
    },
    "kernelspec": {
      "name": "python3",
      "display_name": "Python 3"
    },
    "language_info": {
      "name": "python"
    }
  },
  "cells": [
    {
      "cell_type": "markdown",
      "metadata": {
        "id": "view-in-github",
        "colab_type": "text"
      },
      "source": [
        "<a href=\"https://colab.research.google.com/github/KO-HAREL/dsp/blob/main/audio_recognition_project/ECE_Word.ipynb\" target=\"_parent\"><img src=\"https://colab.research.google.com/assets/colab-badge.svg\" alt=\"Open In Colab\"/></a>"
      ]
    },
    {
      "cell_type": "code",
      "execution_count": null,
      "metadata": {
        "colab": {
          "base_uri": "https://localhost:8080/"
        },
        "id": "BfW28rtOxgU9",
        "outputId": "93e99b04-566d-4740-8a8d-3491fc9c04ee"
      },
      "outputs": [
        {
          "output_type": "stream",
          "name": "stdout",
          "text": [
            "Cloning into 'ThinkDSP'...\n",
            "remote: Enumerating objects: 2522, done.\u001b[K\n",
            "remote: Total 2522 (delta 0), reused 0 (delta 0), pack-reused 2522 (from 1)\u001b[K\n",
            "Receiving objects: 100% (2522/2522), 209.08 MiB | 26.26 MiB/s, done.\n",
            "Resolving deltas: 100% (1375/1375), done.\n",
            "Updating files: 100% (309/309), done.\n"
          ]
        }
      ],
      "source": [
        "\n",
        "!git clone https://github.com/AllenDowney/ThinkDSP.git"
      ]
    },
    {
      "cell_type": "code",
      "source": [
        "import os\n",
        "if not os.path.exists('thinkdsp.py'):\n",
        "    !wget http://github.com/AllenDowney/ThinkDSP/raw/master/code/thinkdsp.py"
      ],
      "metadata": {
        "id": "wX_ZfHupz0is"
      },
      "execution_count": null,
      "outputs": []
    },
    {
      "cell_type": "code",
      "source": [
        "import thinkdsp"
      ],
      "metadata": {
        "id": "hS0OL3Jm5Cla"
      },
      "execution_count": null,
      "outputs": []
    },
    {
      "cell_type": "code",
      "source": [
        "from thinkdsp import read_wave"
      ],
      "metadata": {
        "id": "LLwS7lqJ5Jjx"
      },
      "execution_count": null,
      "outputs": []
    },
    {
      "cell_type": "code",
      "source": [
        "from thinkdsp import read_wave\n",
        "myVoice=read_wave('https://github.com/KO-HAREL/dsp/raw/refs/heads/main/audio_recognition_project/thevoiceECE.m4a/thevoiceece.mp4a')"
      ],
      "metadata": {
        "colab": {
          "base_uri": "https://localhost:8080/",
          "height": 550
        },
        "id": "arpyEwlu5hyy",
        "outputId": "8bacb169-23a1-4308-827f-3e46e450507f"
      },
      "execution_count": null,
      "outputs": [
        {
          "output_type": "error",
          "ename": "FileNotFoundError",
          "evalue": "[Errno 2] No such file or directory: 'https://github.com/KO-HAREL/dsp/raw/refs/heads/main/audio_recognition_project/thevoiceECE.m4a/thevoiceece.mp4a'",
          "traceback": [
            "\u001b[0;31m---------------------------------------------------------------------------\u001b[0m",
            "\u001b[0;31mFileNotFoundError\u001b[0m                         Traceback (most recent call last)",
            "\u001b[0;32m<ipython-input-13-9949eb66ef5a>\u001b[0m in \u001b[0;36m<cell line: 2>\u001b[0;34m()\u001b[0m\n\u001b[1;32m      1\u001b[0m \u001b[0;32mfrom\u001b[0m \u001b[0mthinkdsp\u001b[0m \u001b[0;32mimport\u001b[0m \u001b[0mread_wave\u001b[0m\u001b[0;34m\u001b[0m\u001b[0;34m\u001b[0m\u001b[0m\n\u001b[0;32m----> 2\u001b[0;31m \u001b[0mmyVoice\u001b[0m\u001b[0;34m=\u001b[0m\u001b[0mread_wave\u001b[0m\u001b[0;34m(\u001b[0m\u001b[0;34m'https://github.com/KO-HAREL/dsp/raw/refs/heads/main/audio_recognition_project/thevoiceECE.m4a/thevoiceece.mp4a'\u001b[0m\u001b[0;34m)\u001b[0m\u001b[0;34m\u001b[0m\u001b[0;34m\u001b[0m\u001b[0m\n\u001b[0m",
            "\u001b[0;32m/content/thinkdsp.py\u001b[0m in \u001b[0;36mread_wave\u001b[0;34m(filename)\u001b[0m\n\u001b[1;32m     95\u001b[0m     \u001b[0mreturns\u001b[0m\u001b[0;34m:\u001b[0m \u001b[0mWave\u001b[0m\u001b[0;34m\u001b[0m\u001b[0;34m\u001b[0m\u001b[0m\n\u001b[1;32m     96\u001b[0m     \"\"\"\n\u001b[0;32m---> 97\u001b[0;31m     \u001b[0mfp\u001b[0m \u001b[0;34m=\u001b[0m \u001b[0mopen_wave\u001b[0m\u001b[0;34m(\u001b[0m\u001b[0mfilename\u001b[0m\u001b[0;34m,\u001b[0m \u001b[0;34m\"r\"\u001b[0m\u001b[0;34m)\u001b[0m\u001b[0;34m\u001b[0m\u001b[0;34m\u001b[0m\u001b[0m\n\u001b[0m\u001b[1;32m     98\u001b[0m \u001b[0;34m\u001b[0m\u001b[0m\n\u001b[1;32m     99\u001b[0m     \u001b[0mnchannels\u001b[0m \u001b[0;34m=\u001b[0m \u001b[0mfp\u001b[0m\u001b[0;34m.\u001b[0m\u001b[0mgetnchannels\u001b[0m\u001b[0;34m(\u001b[0m\u001b[0;34m)\u001b[0m\u001b[0;34m\u001b[0m\u001b[0;34m\u001b[0m\u001b[0m\n",
            "\u001b[0;32m/usr/lib/python3.10/wave.py\u001b[0m in \u001b[0;36mopen\u001b[0;34m(f, mode)\u001b[0m\n\u001b[1;32m    507\u001b[0m             \u001b[0mmode\u001b[0m \u001b[0;34m=\u001b[0m \u001b[0;34m'rb'\u001b[0m\u001b[0;34m\u001b[0m\u001b[0;34m\u001b[0m\u001b[0m\n\u001b[1;32m    508\u001b[0m     \u001b[0;32mif\u001b[0m \u001b[0mmode\u001b[0m \u001b[0;32min\u001b[0m \u001b[0;34m(\u001b[0m\u001b[0;34m'r'\u001b[0m\u001b[0;34m,\u001b[0m \u001b[0;34m'rb'\u001b[0m\u001b[0;34m)\u001b[0m\u001b[0;34m:\u001b[0m\u001b[0;34m\u001b[0m\u001b[0;34m\u001b[0m\u001b[0m\n\u001b[0;32m--> 509\u001b[0;31m         \u001b[0;32mreturn\u001b[0m \u001b[0mWave_read\u001b[0m\u001b[0;34m(\u001b[0m\u001b[0mf\u001b[0m\u001b[0;34m)\u001b[0m\u001b[0;34m\u001b[0m\u001b[0;34m\u001b[0m\u001b[0m\n\u001b[0m\u001b[1;32m    510\u001b[0m     \u001b[0;32melif\u001b[0m \u001b[0mmode\u001b[0m \u001b[0;32min\u001b[0m \u001b[0;34m(\u001b[0m\u001b[0;34m'w'\u001b[0m\u001b[0;34m,\u001b[0m \u001b[0;34m'wb'\u001b[0m\u001b[0;34m)\u001b[0m\u001b[0;34m:\u001b[0m\u001b[0;34m\u001b[0m\u001b[0;34m\u001b[0m\u001b[0m\n\u001b[1;32m    511\u001b[0m         \u001b[0;32mreturn\u001b[0m \u001b[0mWave_write\u001b[0m\u001b[0;34m(\u001b[0m\u001b[0mf\u001b[0m\u001b[0;34m)\u001b[0m\u001b[0;34m\u001b[0m\u001b[0;34m\u001b[0m\u001b[0m\n",
            "\u001b[0;32m/usr/lib/python3.10/wave.py\u001b[0m in \u001b[0;36m__init__\u001b[0;34m(self, f)\u001b[0m\n\u001b[1;32m    157\u001b[0m         \u001b[0mself\u001b[0m\u001b[0;34m.\u001b[0m\u001b[0m_i_opened_the_file\u001b[0m \u001b[0;34m=\u001b[0m \u001b[0;32mNone\u001b[0m\u001b[0;34m\u001b[0m\u001b[0;34m\u001b[0m\u001b[0m\n\u001b[1;32m    158\u001b[0m         \u001b[0;32mif\u001b[0m \u001b[0misinstance\u001b[0m\u001b[0;34m(\u001b[0m\u001b[0mf\u001b[0m\u001b[0;34m,\u001b[0m \u001b[0mstr\u001b[0m\u001b[0;34m)\u001b[0m\u001b[0;34m:\u001b[0m\u001b[0;34m\u001b[0m\u001b[0;34m\u001b[0m\u001b[0m\n\u001b[0;32m--> 159\u001b[0;31m             \u001b[0mf\u001b[0m \u001b[0;34m=\u001b[0m \u001b[0mbuiltins\u001b[0m\u001b[0;34m.\u001b[0m\u001b[0mopen\u001b[0m\u001b[0;34m(\u001b[0m\u001b[0mf\u001b[0m\u001b[0;34m,\u001b[0m \u001b[0;34m'rb'\u001b[0m\u001b[0;34m)\u001b[0m\u001b[0;34m\u001b[0m\u001b[0;34m\u001b[0m\u001b[0m\n\u001b[0m\u001b[1;32m    160\u001b[0m             \u001b[0mself\u001b[0m\u001b[0;34m.\u001b[0m\u001b[0m_i_opened_the_file\u001b[0m \u001b[0;34m=\u001b[0m \u001b[0mf\u001b[0m\u001b[0;34m\u001b[0m\u001b[0;34m\u001b[0m\u001b[0m\n\u001b[1;32m    161\u001b[0m         \u001b[0;31m# else, assume it is an open file object already\u001b[0m\u001b[0;34m\u001b[0m\u001b[0;34m\u001b[0m\u001b[0m\n",
            "\u001b[0;31mFileNotFoundError\u001b[0m: [Errno 2] No such file or directory: 'https://github.com/KO-HAREL/dsp/raw/refs/heads/main/audio_recognition_project/thevoiceECE.m4a/thevoiceece.mp4a'"
          ]
        }
      ]
    },
    {
      "cell_type": "code",
      "source": [
        "ls audio_recognition_project"
      ],
      "metadata": {
        "colab": {
          "base_uri": "https://localhost:8080/"
        },
        "id": "jeh7Eqdb7Jp4",
        "outputId": "871d5b65-ed98-4202-8d37-ca915bb5248c"
      },
      "execution_count": null,
      "outputs": [
        {
          "output_type": "stream",
          "name": "stdout",
          "text": [
            "ls: cannot access 'audio_recognition_project': No such file or directory\n"
          ]
        }
      ]
    },
    {
      "cell_type": "code",
      "source": [
        "import os\n",
        "if not os.path.exists('thinkdsp.py'):\n",
        "    !wget http://github.com/AllenDowney/thinkDSP/raw/master/code/thinkdsp.py\n",
        "\n",
        "from thinkdsp import read_wave\n",
        "from thinkdsp import make_spectrum"
      ],
      "metadata": {
        "colab": {
          "base_uri": "https://localhost:8080/",
          "height": 541
        },
        "id": "ErpUYvi39tFp",
        "outputId": "58bb7673-6cd1-4f3c-e3bb-403ab3012360"
      },
      "execution_count": null,
      "outputs": [
        {
          "output_type": "error",
          "ename": "ImportError",
          "evalue": "cannot import name 'make_spectrum' from 'thinkdsp' (/content/thinkdsp.py)",
          "traceback": [
            "\u001b[0;31m---------------------------------------------------------------------------\u001b[0m",
            "\u001b[0;31mImportError\u001b[0m                               Traceback (most recent call last)",
            "\u001b[0;32m<ipython-input-18-01c5df7c2a5e>\u001b[0m in \u001b[0;36m<cell line: 6>\u001b[0;34m()\u001b[0m\n\u001b[1;32m      4\u001b[0m \u001b[0;34m\u001b[0m\u001b[0m\n\u001b[1;32m      5\u001b[0m \u001b[0;32mfrom\u001b[0m \u001b[0mthinkdsp\u001b[0m \u001b[0;32mimport\u001b[0m \u001b[0mread_wave\u001b[0m\u001b[0;34m\u001b[0m\u001b[0;34m\u001b[0m\u001b[0m\n\u001b[0;32m----> 6\u001b[0;31m \u001b[0;32mfrom\u001b[0m \u001b[0mthinkdsp\u001b[0m \u001b[0;32mimport\u001b[0m \u001b[0mmake_spectrum\u001b[0m\u001b[0;34m\u001b[0m\u001b[0;34m\u001b[0m\u001b[0m\n\u001b[0m",
            "\u001b[0;31mImportError\u001b[0m: cannot import name 'make_spectrum' from 'thinkdsp' (/content/thinkdsp.py)",
            "",
            "\u001b[0;31m---------------------------------------------------------------------------\u001b[0;32m\nNOTE: If your import is failing due to a missing package, you can\nmanually install dependencies using either !pip or !apt.\n\nTo view examples of installing some common dependencies, click the\n\"Open Examples\" button below.\n\u001b[0;31m---------------------------------------------------------------------------\u001b[0m\n"
          ],
          "errorDetails": {
            "actions": [
              {
                "action": "open_url",
                "actionText": "Open Examples",
                "url": "/notebooks/snippets/importing_libraries.ipynb"
              }
            ]
          }
        }
      ]
    },
    {
      "cell_type": "code",
      "source": [
        "\n",
        "import thinkdsp\n",
        "\n",
        "dir(thinkdsp)"
      ],
      "metadata": {
        "colab": {
          "base_uri": "https://localhost:8080/"
        },
        "id": "GtFYB17j_go0",
        "outputId": "01f884d5-2a74-42b6-cab6-66759481eb10"
      },
      "execution_count": null,
      "outputs": [
        {
          "output_type": "execute_result",
          "data": {
            "text/plain": [
              "['Audio',\n",
              " 'BrownianNoise',\n",
              " 'Chirp',\n",
              " 'ComplexSinusoid',\n",
              " 'CosSignal',\n",
              " 'CubicSignal',\n",
              " 'Dct',\n",
              " 'ExpoChirp',\n",
              " 'GlottalSignal',\n",
              " 'Impulses',\n",
              " 'IntegratedSpectrum',\n",
              " 'Noise',\n",
              " 'PI2',\n",
              " 'ParabolicSignal',\n",
              " 'PinkNoise',\n",
              " 'SawtoothSignal',\n",
              " 'Signal',\n",
              " 'SilentSignal',\n",
              " 'SinSignal',\n",
              " 'Sinc',\n",
              " 'Sinusoid',\n",
              " 'Spectrogram',\n",
              " 'Spectrum',\n",
              " 'SquareSignal',\n",
              " 'SumSignal',\n",
              " 'TriangleSignal',\n",
              " 'UncorrelatedGaussianNoise',\n",
              " 'UncorrelatedUniformNoise',\n",
              " 'UnimplementedMethodException',\n",
              " 'WavFileWriter',\n",
              " 'Wave',\n",
              " '_SpectrumParent',\n",
              " '__builtins__',\n",
              " '__cached__',\n",
              " '__doc__',\n",
              " '__file__',\n",
              " '__loader__',\n",
              " '__name__',\n",
              " '__package__',\n",
              " '__spec__',\n",
              " 'apodize',\n",
              " 'copy',\n",
              " 'cos_wave',\n",
              " 'decorate',\n",
              " 'find_index',\n",
              " 'infer_framerate',\n",
              " 'legend',\n",
              " 'mag',\n",
              " 'main',\n",
              " 'make_chord',\n",
              " 'make_note',\n",
              " 'math',\n",
              " 'midi_to_freq',\n",
              " 'normalize',\n",
              " 'np',\n",
              " 'open_wave',\n",
              " 'play_wave',\n",
              " 'plt',\n",
              " 'quantize',\n",
              " 'random',\n",
              " 'random_seed',\n",
              " 'read_wave',\n",
              " 'read_wave_with_scipy',\n",
              " 'remove_from_legend',\n",
              " 'rest',\n",
              " 'scipy',\n",
              " 'shift_left',\n",
              " 'shift_right',\n",
              " 'sin_wave',\n",
              " 'subprocess',\n",
              " 'truncate',\n",
              " 'unbias',\n",
              " 'underride',\n",
              " 'warnings',\n",
              " 'wavfile',\n",
              " 'zero_pad']"
            ]
          },
          "metadata": {},
          "execution_count": 22
        }
      ]
    },
    {
      "cell_type": "code",
      "source": [],
      "metadata": {
        "id": "Kg-t78mOATVM"
      },
      "execution_count": null,
      "outputs": []
    }
  ]
}