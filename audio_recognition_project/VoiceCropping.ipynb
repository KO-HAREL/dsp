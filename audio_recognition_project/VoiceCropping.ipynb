{
  "nbformat": 4,
  "nbformat_minor": 0,
  "metadata": {
    "colab": {
      "provenance": [],
      "authorship_tag": "ABX9TyMu/IQu9WcrzlTR/w1Qum2w",
      "include_colab_link": true
    },
    "kernelspec": {
      "name": "python3",
      "display_name": "Python 3"
    },
    "language_info": {
      "name": "python"
    }
  },
  "cells": [
    {
      "cell_type": "markdown",
      "metadata": {
        "id": "view-in-github",
        "colab_type": "text"
      },
      "source": [
        "<a href=\"https://colab.research.google.com/github/KO-HAREL/dsp/blob/main/audio_recognition_project/VoiceCropping.ipynb\" target=\"_parent\"><img src=\"https://colab.research.google.com/assets/colab-badge.svg\" alt=\"Open In Colab\"/></a>"
      ]
    },
    {
      "cell_type": "code",
      "execution_count": null,
      "metadata": {
        "colab": {
          "base_uri": "https://localhost:8080/"
        },
        "id": "7tiOy9qXwYdQ",
        "outputId": "8de0f450-478a-4338-f2d6-216a40bff482"
      },
      "outputs": [
        {
          "output_type": "stream",
          "name": "stdout",
          "text": [
            "Collecting pydub\n",
            "  Downloading pydub-0.25.1-py2.py3-none-any.whl.metadata (1.4 kB)\n",
            "Downloading pydub-0.25.1-py2.py3-none-any.whl (32 kB)\n",
            "Installing collected packages: pydub\n",
            "Successfully installed pydub-0.25.1\n",
            "Requirement already satisfied: numpy in /usr/local/lib/python3.10/dist-packages (1.26.4)\n"
          ]
        }
      ],
      "source": [
        "!pip install pydub\n",
        "!pip install numpy"
      ]
    },
    {
      "cell_type": "code",
      "source": [
        "\n",
        "from pydub import AudioSegment\n",
        "import numpy as np\n",
        "\n",
        "def audio_to_array(file_path):\n",
        "    # Load audio file (mp3 or wav)\n",
        "    audio = AudioSegment.from_file(file_path)\n",
        "\n",
        "    # Get raw data\n",
        "    raw_data = audio.raw_data\n",
        "\n",
        "    # Convert raw_data to a numpy array\n",
        "    audio_array = np.frombuffer(raw_data, dtype=np.int16)\n",
        "\n",
        "    # Reshape to separate channels if stereo (2 channels)\n",
        "    channels = audio.channels\n",
        "    sample_rate = audio.frame_rate\n",
        "    audio_array = np.reshape(audio_array, (-1, channels))\n",
        "\n",
        "    return audio_array, sample_rate\n",
        "\n",
        "# Example usage\n",
        "file_path = 'thevoiceECE1.wav'  # Pass the file path as a string\n",
        "audio_array, sample_rate = audio_to_array(file_path)  # Call the function with the file path\n",
        "print(audio_array)\n",
        "print(f\"Sample Rate: {sample_rate}\")"
      ],
      "metadata": {
        "colab": {
          "base_uri": "https://localhost:8080/"
        },
        "id": "mtclHpjZ49pq",
        "outputId": "2f9091f3-8d2f-4786-e3b7-34010ce8a970"
      },
      "execution_count": 9,
      "outputs": [
        {
          "output_type": "stream",
          "name": "stdout",
          "text": [
            "[[    0]\n",
            " [    0]\n",
            " [    0]\n",
            " ...\n",
            " [-3632]\n",
            " [-4342]\n",
            " [-3670]]\n",
            "Sample Rate: 44100\n"
          ]
        }
      ]
    }
  ]
}